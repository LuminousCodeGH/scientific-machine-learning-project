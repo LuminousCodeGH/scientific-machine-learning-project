{
 "cells": [
  {
   "cell_type": "code",
   "execution_count": 10,
   "id": "7099b8aa",
   "metadata": {
    "execution": {
     "iopub.execute_input": "2025-03-11T14:59:26.226832Z",
     "iopub.status.busy": "2025-03-11T14:59:26.226415Z",
     "iopub.status.idle": "2025-03-11T14:59:27.184480Z",
     "shell.execute_reply": "2025-03-11T14:59:27.183168Z"
    },
    "papermill": {
     "duration": 0.965649,
     "end_time": "2025-03-11T14:59:27.186625",
     "exception": false,
     "start_time": "2025-03-11T14:59:26.220976",
     "status": "completed"
    },
    "tags": []
   },
   "outputs": [],
   "source": [
    "import pandas as pd"
   ]
  },
  {
   "cell_type": "code",
   "execution_count": 11,
   "id": "879059d6",
   "metadata": {
    "execution": {
     "iopub.execute_input": "2025-03-11T14:59:27.196381Z",
     "iopub.status.busy": "2025-03-11T14:59:27.195867Z",
     "iopub.status.idle": "2025-03-11T14:59:29.073490Z",
     "shell.execute_reply": "2025-03-11T14:59:29.072199Z"
    },
    "id": "w8OKad-M5RBh",
    "outputId": "ff8f96d2-57dd-4cf0-daa8-b072e0b49e36",
    "papermill": {
     "duration": 1.884538,
     "end_time": "2025-03-11T14:59:29.075660",
     "exception": false,
     "start_time": "2025-03-11T14:59:27.191122",
     "status": "completed"
    },
    "tags": []
   },
   "outputs": [],
   "source": [
    "# Import the data\n",
    "ppi_clean = pd.read_csv('./data/ppi_clean_train.csv')"
   ]
  },
  {
   "cell_type": "code",
   "execution_count": 12,
   "id": "7054df65",
   "metadata": {
    "execution": {
     "iopub.execute_input": "2025-03-11T14:59:29.092343Z",
     "iopub.status.busy": "2025-03-11T14:59:29.091965Z",
     "iopub.status.idle": "2025-03-11T14:59:29.096516Z",
     "shell.execute_reply": "2025-03-11T14:59:29.095448Z"
    },
    "id": "nJAQKlpT5RBk",
    "papermill": {
     "duration": 0.010836,
     "end_time": "2025-03-11T14:59:29.098137",
     "exception": false,
     "start_time": "2025-03-11T14:59:29.087301",
     "status": "completed"
    },
    "tags": []
   },
   "outputs": [],
   "source": [
    "# Remove columns that shouldn't be features\n",
    "def remove_non_features(df: pd.DataFrame, non_feature_cols: list[str]) -> pd.DataFrame:\n",
    "    return df.drop(non_feature_cols, axis=1)"
   ]
  },
  {
   "cell_type": "code",
   "execution_count": 13,
   "id": "79706fd5",
   "metadata": {
    "execution": {
     "iopub.execute_input": "2025-03-11T14:59:29.107156Z",
     "iopub.status.busy": "2025-03-11T14:59:29.106749Z",
     "iopub.status.idle": "2025-03-11T14:59:30.678951Z",
     "shell.execute_reply": "2025-03-11T14:59:30.677614Z"
    },
    "id": "LbzuXg835RBl",
    "outputId": "4848a3ca-9ce0-442d-b30a-c0b807210b9d",
    "papermill": {
     "duration": 1.578839,
     "end_time": "2025-03-11T14:59:30.680936",
     "exception": false,
     "start_time": "2025-03-11T14:59:29.102097",
     "status": "completed"
    },
    "tags": []
   },
   "outputs": [],
   "source": [
    "# Split data into train/validation and test set, taking into account the protein groups\n",
    "from sklearn.model_selection import GroupShuffleSplit\n",
    "\n",
    "def split_data_by_group(X: pd.DataFrame, y: pd.Series, groups: pd.Series, **kwargs) -> tuple[pd.DataFrame, pd.DataFrame, pd.Series, pd.Series]:\n",
    "    gss = GroupShuffleSplit(**kwargs)\n",
    "\n",
    "    for train_idx, test_idx in gss.split(X, y, groups):\n",
    "        X_train, X_test = X.iloc[train_idx], X.iloc[test_idx]\n",
    "        y_train, y_test = y[train_idx], y[test_idx]\n",
    "\n",
    "    assert set(X_train.uniprot_id).intersection(set(X_test.uniprot_id)) == set(), 'The same uniprot ID appears in both the train and test set!'\n",
    "    return X_train, X_test, y_train, y_test\n",
    "\n",
    "def select_window_size(df: pd.DataFrame, window_sizes) -> pd.DataFrame:\n",
    "    '''Remove the window columns that are not used, i.e. not specified in window_size'''\n",
    "    keep_cols = set()\n",
    "    wm_cols = df.columns[df.columns.str.match(r\"^\\d+_wm\")].tolist()\n",
    "    all_cols = set(wm_cols)\n",
    "\n",
    "        # Regex for [number]_wm\n",
    "      #pssm_cols = [col for col in df.columns if col.startswith('pssm') or col.startswith('prob')]\n",
    "      #extra_cols = ['rel_surf_acc', 'normalized_abs_surf_acc', 'normalized_hydropathy_index']\n",
    "      \n",
    "    for window_size in window_sizes:\n",
    "        keep_cols.update(set([col for col in df.columns if col.startswith(f\"{window_size}_wm\")]))\n",
    "\n",
    "\n",
    "\n",
    "    cols_to_remove = list(set(all_cols).difference(set(keep_cols)))\n",
    "    cols_before = frozenset(df.columns)\n",
    "    df = df.drop(cols_to_remove, axis=1)\n",
    "    cols_after = frozenset(df.columns)\n",
    "    \n",
    "    return df"
   ]
  },
  {
   "cell_type": "code",
   "execution_count": 14,
   "id": "07bc946f",
   "metadata": {
    "execution": {
     "iopub.execute_input": "2025-03-11T14:59:30.690544Z",
     "iopub.status.busy": "2025-03-11T14:59:30.690046Z",
     "iopub.status.idle": "2025-03-11T14:59:31.011693Z",
     "shell.execute_reply": "2025-03-11T14:59:31.010396Z"
    },
    "id": "QrjO6xXSE4Cu",
    "papermill": {
     "duration": 0.328711,
     "end_time": "2025-03-11T14:59:31.013689",
     "exception": false,
     "start_time": "2025-03-11T14:59:30.684978",
     "status": "completed"
    },
    "tags": []
   },
   "outputs": [],
   "source": [
    "from itertools import combinations\n",
    "from sklearn.model_selection import GridSearchCV\n",
    "from skopt import BayesSearchCV\n",
    "from xgboost import XGBClassifier"
   ]
  },
  {
   "cell_type": "code",
   "execution_count": 15,
   "id": "d0c9b916",
   "metadata": {
    "execution": {
     "iopub.execute_input": "2025-03-11T14:59:31.022736Z",
     "iopub.status.busy": "2025-03-11T14:59:31.022383Z",
     "iopub.status.idle": "2025-03-11T14:59:31.349390Z",
     "shell.execute_reply": "2025-03-11T14:59:31.348338Z"
    },
    "id": "XWsZ2AgP5RBn",
    "papermill": {
     "duration": 0.333538,
     "end_time": "2025-03-11T14:59:31.351253",
     "exception": false,
     "start_time": "2025-03-11T14:59:31.017715",
     "status": "completed"
    },
    "tags": []
   },
   "outputs": [],
   "source": [
    "from sklearn.tree import DecisionTreeClassifier\n",
    "from sklearn.model_selection import GroupKFold\n",
    "from sklearn.base import BaseEstimator\n",
    "from sklearn.metrics import roc_auc_score, recall_score\n",
    "\n",
    "def kfold_cv_by_group(X: pd.DataFrame, y: pd.Series, groups: pd.Series, model: BaseEstimator, **kwargs) -> pd.DataFrame:\n",
    "    group_kfold = GroupKFold(**kwargs)"
   ]
  },
  {
   "cell_type": "code",
   "execution_count": 16,
   "id": "5b435b48",
   "metadata": {
    "execution": {
     "iopub.execute_input": "2025-03-11T14:59:31.360023Z",
     "iopub.status.busy": "2025-03-11T14:59:31.359650Z",
     "iopub.status.idle": "2025-03-11T14:59:31.497520Z",
     "shell.execute_reply": "2025-03-11T14:59:31.496137Z"
    },
    "papermill": {
     "duration": 0.144778,
     "end_time": "2025-03-11T14:59:31.499862",
     "exception": false,
     "start_time": "2025-03-11T14:59:31.355084",
     "status": "completed"
    },
    "tags": []
   },
   "outputs": [],
   "source": [
    "from sklearn.ensemble import RandomForestClassifier\n",
    "import os.path"
   ]
  },
  {
   "cell_type": "code",
   "execution_count": 17,
   "id": "c2076a05",
   "metadata": {
    "papermill": {
     "duration": 0.004824,
     "end_time": "2025-03-11T14:59:31.509480",
     "exception": false,
     "start_time": "2025-03-11T14:59:31.504656",
     "status": "completed"
    },
    "tags": []
   },
   "outputs": [],
   "source": [
    "result_file = 'result_window_selection'"
   ]
  },
  {
   "cell_type": "code",
   "execution_count": 23,
   "id": "4be81dcf",
   "metadata": {
    "execution": {
     "iopub.execute_input": "2025-03-11T14:59:31.522833Z",
     "iopub.status.busy": "2025-03-11T14:59:31.522308Z",
     "iopub.status.idle": "2025-03-11T17:38:17.501658Z",
     "shell.execute_reply": "2025-03-11T17:38:17.500163Z"
    },
    "papermill": {
     "duration": 9525.9923,
     "end_time": "2025-03-11T17:38:17.507347",
     "exception": false,
     "start_time": "2025-03-11T14:59:31.515047",
     "status": "completed"
    },
    "tags": []
   },
   "outputs": [
    {
     "name": "stdout",
     "output_type": "stream",
     "text": [
      "Running size=0...\n",
      "Running selection=()\n",
      "Running size=1...\n",
      "Running selection=(9,)\n",
      "Running selection=(3,)\n",
      "Running selection=(5,)\n",
      "Running selection=(7,)\n",
      "Running size=2...\n",
      "Running selection=(9, 3)\n",
      "Running selection=(9, 5)\n",
      "Running selection=(9, 7)\n",
      "Running selection=(3, 5)\n",
      "Running selection=(3, 7)\n",
      "Running selection=(5, 7)\n",
      "Running size=3...\n",
      "Running selection=(9, 3, 5)\n",
      "Running selection=(9, 3, 7)\n",
      "Running selection=(9, 5, 7)\n",
      "Running selection=(3, 5, 7)\n",
      "Running size=4...\n",
      "Running selection=(9, 3, 5, 7)\n",
      "    size       windows  ... best_score     stdev\n",
      "0      0            ()  ...   0.673742  0.036955\n",
      "1      1          (9,)  ...   0.697054  0.035446\n",
      "2      1          (3,)  ...   0.685291  0.036993\n",
      "3      1          (5,)  ...   0.687803  0.037508\n",
      "4      1          (7,)  ...   0.693364  0.036154\n",
      "5      2        (9, 3)  ...   0.697112  0.034261\n",
      "6      2        (9, 5)  ...   0.694904  0.035036\n",
      "7      2        (9, 7)  ...   0.695406  0.032588\n",
      "8      2        (3, 5)  ...   0.688056  0.035372\n",
      "9      2        (3, 7)  ...   0.692785  0.035884\n",
      "10     2        (5, 7)  ...   0.691417  0.034766\n",
      "11     3     (9, 3, 5)  ...   0.695041  0.034074\n",
      "12     3     (9, 3, 7)  ...   0.695156  0.033137\n",
      "13     3     (9, 5, 7)  ...   0.693727  0.032690\n",
      "14     3     (3, 5, 7)  ...   0.691356  0.034349\n",
      "15     4  (9, 3, 5, 7)  ...   0.693124  0.032370\n",
      "\n",
      "[16 rows x 5 columns]\n"
     ]
    }
   ],
   "source": [
    "y = ppi_clean.p_interface\n",
    "X_non_windowed = ppi_clean.drop('p_interface', axis=1)\n",
    "non_feature_cols = ['domain', 'aa_ProtPosition', 'uniprot_id']\n",
    "X_non_windowed = remove_non_features(X_non_windowed, non_feature_cols)\n",
    "groups = ppi_clean.uniprot_id\n",
    "gs_model = RandomForestClassifier(class_weight='balanced')\n",
    "\n",
    "gs_params = {\n",
    "    'max_depth': list(range(5, 51)),\n",
    "    'criterion': ['gini', 'entropy', 'log_loss'],\n",
    "    'min_samples_leaf': list(range(1, 73, 2)),\n",
    "    'max_features': ['sqrt', 'log2'],\n",
    "    'n_estimators': list(range(5, 301, 5))\n",
    "}\n",
    "if not os.path.exists(f'./data/{result_file}.csv'):\n",
    "    gridsearch = BayesSearchCV(gs_model, gs_params, n_jobs=-1, scoring='roc_auc', cv=GroupKFold())\n",
    "    dict_results = {'size': [], 'windows': [], 'best_params': [], 'best_score': [], 'stdev': []}\n",
    "    for size in [0,1,2,3,4]:\n",
    "        print(f'Running {size=}...')\n",
    "        for selection in combinations(set([3,5,7,9]), size):\n",
    "            print(f'Running {selection=}')\n",
    "            X = select_window_size(X_non_windowed, list(selection))\n",
    "            gridsearch.fit(X, y, groups=groups)\n",
    "            dict_results['size'].append(size)\n",
    "            dict_results['windows'].append(selection)\n",
    "            dict_results['best_params'].append(gridsearch.best_params_)\n",
    "            dict_results['best_score'].append(gridsearch.best_score_)\n",
    "            dict_results['stdev'].append(gridsearch.cv_results_['std_test_score'][gridsearch.best_index_])\n",
    "            \n",
    "    hyperparam_results = pd.DataFrame(dict_results)\n",
    "    hyperparam_results.to_csv(f'./data/{result_file}.csv', index=False)\n",
    "else:\n",
    "    hyperparam_results = pd.read_csv(f'./data/{result_file}.csv')\n",
    "\n",
    "print(hyperparam_results)\n"
   ]
  },
  {
   "cell_type": "code",
   "execution_count": null,
   "id": "951086a5",
   "metadata": {
    "execution": {
     "iopub.execute_input": "2025-03-11T10:55:37.873995Z",
     "iopub.status.busy": "2025-03-11T10:55:37.873578Z",
     "iopub.status.idle": "2025-03-11T10:55:37.879234Z",
     "shell.execute_reply": "2025-03-11T10:55:37.877776Z",
     "shell.execute_reply.started": "2025-03-11T10:55:37.873965Z"
    },
    "papermill": {
     "duration": 0.003579,
     "end_time": "2025-03-11T17:38:17.514835",
     "exception": false,
     "start_time": "2025-03-11T17:38:17.511256",
     "status": "completed"
    },
    "tags": []
   },
   "outputs": [],
   "source": [
    "\n",
    "\n"
   ]
  },
  {
   "cell_type": "code",
   "execution_count": null,
   "id": "a52f5b06",
   "metadata": {
    "execution": {
     "iopub.execute_input": "2025-03-11T10:55:40.413674Z",
     "iopub.status.busy": "2025-03-11T10:55:40.413316Z",
     "iopub.status.idle": "2025-03-11T10:55:40.419144Z",
     "shell.execute_reply": "2025-03-11T10:55:40.417413Z",
     "shell.execute_reply.started": "2025-03-11T10:55:40.413645Z"
    },
    "id": "4whwREvfGB_I",
    "outputId": "24d746df-688e-48df-b0c3-0758cccb8513",
    "papermill": {
     "duration": 0.003463,
     "end_time": "2025-03-11T17:38:17.522065",
     "exception": false,
     "start_time": "2025-03-11T17:38:17.518602",
     "status": "completed"
    },
    "tags": []
   },
   "outputs": [],
   "source": []
  },
  {
   "cell_type": "code",
   "execution_count": null,
   "id": "2d02df3c",
   "metadata": {
    "execution": {
     "iopub.execute_input": "2025-03-11T10:55:44.408276Z",
     "iopub.status.busy": "2025-03-11T10:55:44.407847Z",
     "iopub.status.idle": "2025-03-11T10:55:45.167286Z",
     "shell.execute_reply": "2025-03-11T10:55:45.166129Z",
     "shell.execute_reply.started": "2025-03-11T10:55:44.408245Z"
    },
    "papermill": {
     "duration": 0.003413,
     "end_time": "2025-03-11T17:38:17.529119",
     "exception": false,
     "start_time": "2025-03-11T17:38:17.525706",
     "status": "completed"
    },
    "tags": []
   },
   "outputs": [],
   "source": []
  },
  {
   "cell_type": "code",
   "execution_count": null,
   "id": "8afc1e52",
   "metadata": {
    "execution": {
     "iopub.execute_input": "2025-03-11T10:58:31.601989Z",
     "iopub.status.busy": "2025-03-11T10:58:31.601564Z",
     "iopub.status.idle": "2025-03-11T10:58:31.606968Z",
     "shell.execute_reply": "2025-03-11T10:58:31.605679Z",
     "shell.execute_reply.started": "2025-03-11T10:58:31.601958Z"
    },
    "papermill": {
     "duration": 0.003362,
     "end_time": "2025-03-11T17:38:17.536086",
     "exception": false,
     "start_time": "2025-03-11T17:38:17.532724",
     "status": "completed"
    },
    "tags": []
   },
   "outputs": [],
   "source": []
  },
  {
   "cell_type": "code",
   "execution_count": null,
   "id": "c2993cf7",
   "metadata": {
    "execution": {
     "iopub.execute_input": "2025-03-11T10:59:22.370496Z",
     "iopub.status.busy": "2025-03-11T10:59:22.370161Z",
     "iopub.status.idle": "2025-03-11T10:59:22.378448Z",
     "shell.execute_reply": "2025-03-11T10:59:22.377453Z",
     "shell.execute_reply.started": "2025-03-11T10:59:22.370454Z"
    },
    "papermill": {
     "duration": 0.003416,
     "end_time": "2025-03-11T17:38:17.543174",
     "exception": false,
     "start_time": "2025-03-11T17:38:17.539758",
     "status": "completed"
    },
    "tags": []
   },
   "outputs": [],
   "source": []
  }
 ],
 "metadata": {
  "colab": {
   "provenance": []
  },
  "kaggle": {
   "accelerator": "none",
   "dataSources": [
    {
     "datasetId": 6713391,
     "sourceId": 10984117,
     "sourceType": "datasetVersion"
    }
   ],
   "dockerImageVersionId": 30918,
   "isGpuEnabled": false,
   "isInternetEnabled": true,
   "language": "python",
   "sourceType": "notebook"
  },
  "kernelspec": {
   "display_name": ".venv",
   "language": "python",
   "name": "python3"
  },
  "language_info": {
   "codemirror_mode": {
    "name": "ipython",
    "version": 3
   },
   "file_extension": ".py",
   "mimetype": "text/x-python",
   "name": "python",
   "nbconvert_exporter": "python",
   "pygments_lexer": "ipython3",
   "version": "3.12.3"
  },
  "papermill": {
   "default_parameters": {},
   "duration": 9535.066005,
   "end_time": "2025-03-11T17:38:18.380496",
   "environment_variables": {},
   "exception": null,
   "input_path": "__notebook__.ipynb",
   "output_path": "__notebook__.ipynb",
   "parameters": {},
   "start_time": "2025-03-11T14:59:23.314491",
   "version": "2.6.0"
  }
 },
 "nbformat": 4,
 "nbformat_minor": 5
}
